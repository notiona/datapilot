{
 "cells": [
  {
   "cell_type": "markdown",
   "id": "13ace36a-bb6b-464b-ac95-98c3fee21834",
   "metadata": {},
   "source": [
    "## import datapilot.Visualizer"
   ]
  },
  {
   "cell_type": "markdown",
   "id": "4b6c8f37-fe2f-4948-9ef6-8878daa0015e",
   "metadata": {},
   "source": [
    "> First of all, we need to import datapilot's Visualizer class, to use its methods"
   ]
  },
  {
   "cell_type": "code",
   "execution_count": null,
   "id": "88d4cc54-da31-493f-a90f-f695535e1a62",
   "metadata": {},
   "outputs": [],
   "source": [
    "cd .."
   ]
  },
  {
   "cell_type": "code",
   "execution_count": null,
   "id": "2163a3aa-11fd-4910-8c28-8ffade330ebe",
   "metadata": {},
   "outputs": [],
   "source": [
    "pwd"
   ]
  },
  {
   "cell_type": "markdown",
   "id": "d13556d0-911f-4630-b7de-d1e27a6153a0",
   "metadata": {},
   "source": [
    "> import datapilot's Visualizer from datapilot.visualization"
   ]
  },
  {
   "cell_type": "code",
   "execution_count": null,
   "id": "02c22a1b-4661-45c2-8e6c-6464ef06e842",
   "metadata": {
    "tags": []
   },
   "outputs": [],
   "source": [
    "from datapilot.visualization import Visualizer"
   ]
  },
  {
   "cell_type": "markdown",
   "id": "6b1d945e-7066-4775-8a88-bf018b3ba7f9",
   "metadata": {},
   "source": [
    "## Import Data"
   ]
  },
  {
   "cell_type": "markdown",
   "id": "88f690c8-8417-43a5-8c6c-32532dc57c08",
   "metadata": {},
   "source": [
    "> for this tutorial, use the famous iris dataset"
   ]
  },
  {
   "cell_type": "code",
   "execution_count": null,
   "id": "43b35d85-f489-4278-baed-4a7baf325aa2",
   "metadata": {},
   "outputs": [],
   "source": [
    "import pandas as pd"
   ]
  },
  {
   "cell_type": "code",
   "execution_count": null,
   "id": "257214bc-346f-4032-bebf-55fcea862437",
   "metadata": {},
   "outputs": [],
   "source": [
    "iris = pd.read_csv(\"./data/iris.csv\")"
   ]
  },
  {
   "cell_type": "markdown",
   "id": "e9940b96-c0af-420a-b34b-eaa3e153a792",
   "metadata": {},
   "source": [
    "## Get help message"
   ]
  },
  {
   "cell_type": "markdown",
   "id": "92ec4fca-09c6-4847-968d-3f1ab8c35ace",
   "metadata": {},
   "source": [
    "> to initialize a Visualizer instance, give it a pandas DataFrame to analyze."
   ]
  },
  {
   "cell_type": "code",
   "execution_count": null,
   "id": "fa2fa912-526d-461d-a28d-05c805b87c3c",
   "metadata": {},
   "outputs": [],
   "source": [
    "viz = Visualizer(iris)"
   ]
  },
  {
   "cell_type": "markdown",
   "id": "5c11e2e9-4189-42a0-997e-07b6bb5587a4",
   "metadata": {},
   "source": [
    "> for any class in datapilot, you can easily lookup all the callable methods by calling .help()"
   ]
  },
  {
   "cell_type": "code",
   "execution_count": null,
   "id": "c1628f96-b437-4af6-9478-0c6ebd18818d",
   "metadata": {},
   "outputs": [],
   "source": [
    "viz.help()"
   ]
  },
  {
   "cell_type": "markdown",
   "id": "0015116a-83d2-45a4-97ef-c70e7b679a5e",
   "metadata": {},
   "source": [
    "## Get list of all column names"
   ]
  },
  {
   "cell_type": "markdown",
   "id": "38559652-d2e2-4cd5-80be-b5afcb02b526",
   "metadata": {},
   "source": [
    "> with get_all_column_info(), get all the column names along with their automatically given type(numerical or categorical). This can be modified later on."
   ]
  },
  {
   "cell_type": "code",
   "execution_count": null,
   "id": "625042c1-3165-4a6b-80ee-a6b32922c067",
   "metadata": {},
   "outputs": [],
   "source": [
    "viz.get_all_column_info()"
   ]
  },
  {
   "cell_type": "markdown",
   "id": "8664e16a-52f2-4794-9a69-55848baaa22e",
   "metadata": {},
   "source": [
    "## Column-wise Quick Visualization"
   ]
  },
  {
   "cell_type": "markdown",
   "id": "b49f6554-41d0-4a4b-99bb-6e0f55ad286a",
   "metadata": {},
   "source": [
    "> do a quick column-wise visualization with visualize_one_column(). The type of the column is automatically detected, even though you can override this behavior."
   ]
  },
  {
   "cell_type": "code",
   "execution_count": null,
   "id": "2dddde56-fb1d-4686-bda4-fc5bfff8ac9d",
   "metadata": {},
   "outputs": [],
   "source": [
    "viz = Visualizer(iris)"
   ]
  },
  {
   "cell_type": "code",
   "execution_count": null,
   "id": "f50186a3-7e2d-4aa2-bc9f-d36b551955de",
   "metadata": {},
   "outputs": [],
   "source": [
    "viz.visualize_one_column(\"sepal_length\")"
   ]
  },
  {
   "cell_type": "code",
   "execution_count": null,
   "id": "eee17e26-34f5-4b17-9198-9f532028be6d",
   "metadata": {},
   "outputs": [],
   "source": [
    "viz.visualize_one_column(\"sepal_width\")"
   ]
  },
  {
   "cell_type": "code",
   "execution_count": null,
   "id": "db3700c8-7de7-4078-b47b-4d2e2c72315f",
   "metadata": {},
   "outputs": [],
   "source": [
    "viz.visualize_one_column(\"petal_length\")"
   ]
  },
  {
   "cell_type": "code",
   "execution_count": null,
   "id": "6c1e7e5c-8694-4d1c-904d-522448462dd4",
   "metadata": {},
   "outputs": [],
   "source": [
    "viz.visualize_one_column(\"petal_width\")"
   ]
  },
  {
   "cell_type": "code",
   "execution_count": null,
   "id": "8b8577f5-204b-4902-addd-f29a4f025c4e",
   "metadata": {},
   "outputs": [],
   "source": [
    "viz.visualize_one_column(\"species\")"
   ]
  },
  {
   "cell_type": "markdown",
   "id": "fdbe1878-9dbe-4f48-8fbf-4b4b2ac6cdab",
   "metadata": {},
   "source": [
    "## Inter Column Quick Visualization"
   ]
  },
  {
   "cell_type": "markdown",
   "id": "de783cdc-014c-4781-a3ea-2d7058390d8b",
   "metadata": {},
   "source": [
    "> do a quick two-column visualization with visualize_two_columns(). The types of the columns are automatically detected, even though you can override this behavior."
   ]
  },
  {
   "cell_type": "code",
   "execution_count": null,
   "id": "ccee0c55-46da-4104-80be-bd104e15fec9",
   "metadata": {
    "tags": []
   },
   "outputs": [],
   "source": [
    "viz.visualize_two_columns([\"petal_length\",\"species\"])"
   ]
  },
  {
   "cell_type": "markdown",
   "id": "5b975c32-ce69-438d-9e25-49a1990ab806",
   "metadata": {},
   "source": [
    "## Low-code PCA: 2d"
   ]
  },
  {
   "cell_type": "markdown",
   "id": "a9bcc14d-7ac3-436b-b4bc-a590b603fee7",
   "metadata": {},
   "source": [
    "> do a PCA -> 2d visualization quickly with visualize_pca_2d(). The total explained variance is notated with the graph."
   ]
  },
  {
   "cell_type": "code",
   "execution_count": null,
   "id": "3758f965-2121-44e5-8eb0-d83b31889b01",
   "metadata": {},
   "outputs": [],
   "source": [
    "viz.visualize_pca_2d(\"species\")"
   ]
  },
  {
   "cell_type": "markdown",
   "id": "76583fe8-8eb4-4f69-963e-0574718f2fe6",
   "metadata": {},
   "source": [
    "## Low-code PCA: 3d"
   ]
  },
  {
   "cell_type": "markdown",
   "id": "f3ae6f02-e494-464e-8e19-199bf3d51d9b",
   "metadata": {},
   "source": [
    "> do a PCA -> 3d visualization quickly with visualize_pca_3d(). The total explained variance is notated with the graph."
   ]
  },
  {
   "cell_type": "code",
   "execution_count": null,
   "id": "7fea491b-0166-4111-bc96-a37cd7e65ede",
   "metadata": {
    "tags": []
   },
   "outputs": [],
   "source": [
    "viz.visualize_pca_3d(\"species\")"
   ]
  },
  {
   "cell_type": "code",
   "execution_count": null,
   "id": "c42737b8-8a1a-4831-9957-228f8cb4d772",
   "metadata": {},
   "outputs": [],
   "source": []
  },
  {
   "cell_type": "code",
   "execution_count": null,
   "id": "7fb4a2e2-4ecc-4021-8e18-a7c953c01ea5",
   "metadata": {},
   "outputs": [],
   "source": []
  }
 ],
 "metadata": {
  "kernelspec": {
   "display_name": "datapilot",
   "language": "python",
   "name": "datapilot"
  },
  "language_info": {
   "codemirror_mode": {
    "name": "ipython",
    "version": 3
   },
   "file_extension": ".py",
   "mimetype": "text/x-python",
   "name": "python",
   "nbconvert_exporter": "python",
   "pygments_lexer": "ipython3",
   "version": "3.8.15"
  }
 },
 "nbformat": 4,
 "nbformat_minor": 5
}
