{
 "cells": [
  {
   "cell_type": "markdown",
   "id": "13ace36a-bb6b-464b-ac95-98c3fee21834",
   "metadata": {},
   "source": [
    "## import datapilot.DataAnalyst"
   ]
  },
  {
   "cell_type": "markdown",
   "id": "8a002656-e3cb-4011-8bfa-2a4fd2451e95",
   "metadata": {},
   "source": [
    "> First of all, we need to import datapilot's DataAnalyst class, to use its methods"
   ]
  },
  {
   "cell_type": "code",
   "execution_count": null,
   "id": "88d4cc54-da31-493f-a90f-f695535e1a62",
   "metadata": {},
   "outputs": [],
   "source": [
    "cd .."
   ]
  },
  {
   "cell_type": "code",
   "execution_count": null,
   "id": "2163a3aa-11fd-4910-8c28-8ffade330ebe",
   "metadata": {},
   "outputs": [],
   "source": [
    "pwd"
   ]
  },
  {
   "cell_type": "markdown",
   "id": "e0a6aff3-288f-4a80-966b-e47da1cde4c5",
   "metadata": {},
   "source": [
    "> import datapilot's DataAnalyst from datapilot.data_analysis"
   ]
  },
  {
   "cell_type": "code",
   "execution_count": null,
   "id": "02c22a1b-4661-45c2-8e6c-6464ef06e842",
   "metadata": {},
   "outputs": [],
   "source": [
    "from datapilot.data_analysis import DataAnalyst"
   ]
  },
  {
   "cell_type": "markdown",
   "id": "6b1d945e-7066-4775-8a88-bf018b3ba7f9",
   "metadata": {},
   "source": [
    "## Import Data"
   ]
  },
  {
   "cell_type": "markdown",
   "id": "879a9edc-f5d1-43a1-9041-6e057df63b00",
   "metadata": {},
   "source": [
    "> for this tutorial, use the famous iris dataset"
   ]
  },
  {
   "cell_type": "code",
   "execution_count": null,
   "id": "43b35d85-f489-4278-baed-4a7baf325aa2",
   "metadata": {},
   "outputs": [],
   "source": [
    "import pandas as pd"
   ]
  },
  {
   "cell_type": "code",
   "execution_count": null,
   "id": "257214bc-346f-4032-bebf-55fcea862437",
   "metadata": {},
   "outputs": [],
   "source": [
    "iris = pd.read_csv(\"./data/iris.csv\")"
   ]
  },
  {
   "cell_type": "markdown",
   "id": "d215e99f-216e-4952-b0ed-9cc6d83da39d",
   "metadata": {},
   "source": [
    "## Get help message"
   ]
  },
  {
   "cell_type": "markdown",
   "id": "92984848-078d-4120-9fb5-99e9e890df5b",
   "metadata": {},
   "source": [
    "> to initialize a DataAnalyst instance, give it a pandas DataFrame to analyze."
   ]
  },
  {
   "cell_type": "code",
   "execution_count": null,
   "id": "fa2fa912-526d-461d-a28d-05c805b87c3c",
   "metadata": {},
   "outputs": [],
   "source": [
    "da = DataAnalyst(iris)"
   ]
  },
  {
   "cell_type": "markdown",
   "id": "0e3440df-add5-45eb-91a3-c86b425372e0",
   "metadata": {},
   "source": [
    "> for any class in datapilot, you can easily lookup all the callable methods by calling .help()"
   ]
  },
  {
   "cell_type": "code",
   "execution_count": null,
   "id": "e0e948fb-c393-4624-94b0-a39335146df9",
   "metadata": {},
   "outputs": [],
   "source": [
    "da.help()"
   ]
  },
  {
   "cell_type": "markdown",
   "id": "0015116a-83d2-45a4-97ef-c70e7b679a5e",
   "metadata": {},
   "source": [
    "## Get list of all column names"
   ]
  },
  {
   "cell_type": "markdown",
   "id": "c28cdfb1-3131-4afc-9e67-555d66be52ca",
   "metadata": {},
   "source": [
    "> with get_all_column_info(), get all the column names along with their automatically given type(numerical or categorical). This can be modified later on."
   ]
  },
  {
   "cell_type": "code",
   "execution_count": null,
   "id": "625042c1-3165-4a6b-80ee-a6b32922c067",
   "metadata": {},
   "outputs": [],
   "source": [
    "da.get_all_column_info()"
   ]
  },
  {
   "cell_type": "markdown",
   "id": "5ef33b58-3c52-48f5-8244-4bc145f809f3",
   "metadata": {},
   "source": [
    "## Inspect Data"
   ]
  },
  {
   "cell_type": "markdown",
   "id": "682e48a6-bd50-41da-981c-3c6c6e33a0fe",
   "metadata": {},
   "source": [
    "> when we call inspect_data(), it first shows a report from pandas, specifying non-missing row count with each columns' data type by pandas.\n",
    "\n",
    "Then it gives the detected data type by datapilot. If the two does not match, it raises a warning. In this case, you can manually set the data type."
   ]
  },
  {
   "cell_type": "code",
   "execution_count": null,
   "id": "8c138c55-3f4b-44af-85ac-5c0cf2b47d07",
   "metadata": {},
   "outputs": [],
   "source": [
    "da.inspect_data()"
   ]
  },
  {
   "cell_type": "markdown",
   "id": "a2df7534-7088-4510-b016-5dd6169c4aa1",
   "metadata": {},
   "source": [
    "## Detect suspicious values"
   ]
  },
  {
   "cell_type": "markdown",
   "id": "7cc0e5ae-7d6e-4817-a467-d3960cca4e4d",
   "metadata": {},
   "source": [
    "> Initialize a corrupt iris dataset with suspicious, missing, and duplicate values."
   ]
  },
  {
   "cell_type": "code",
   "execution_count": null,
   "id": "0a3eceb6-1876-4d07-98e3-25bd559b7821",
   "metadata": {
    "tags": []
   },
   "outputs": [],
   "source": [
    "iris_corrupt = pd.read_csv(\"./data/iris_corrupt.csv\")"
   ]
  },
  {
   "cell_type": "code",
   "execution_count": null,
   "id": "52b69bd5-3219-4fc6-aee3-aea1243ec36b",
   "metadata": {},
   "outputs": [],
   "source": [
    "da_corrupt = DataAnalyst(iris_corrupt)"
   ]
  },
  {
   "cell_type": "code",
   "execution_count": null,
   "id": "8f31c6c7-995d-4139-91a4-de20d383a182",
   "metadata": {},
   "outputs": [],
   "source": [
    "da_corrupt.inspect_data()"
   ]
  },
  {
   "cell_type": "markdown",
   "id": "1f2c21d0-8bab-4698-9049-97b3f9ad87a8",
   "metadata": {},
   "source": [
    "> with detect_suspicious(), datapilot detects pre-defined suspicious values in the input and shows where it happened, and why it happened."
   ]
  },
  {
   "cell_type": "code",
   "execution_count": null,
   "id": "2642be56-586b-419f-9b1f-fd9b5804ad6f",
   "metadata": {},
   "outputs": [],
   "source": [
    "da_corrupt.detect_suspicious()"
   ]
  },
  {
   "cell_type": "markdown",
   "id": "15f23db5-3413-4393-acd1-9a88464d5df1",
   "metadata": {},
   "source": [
    "## Detect missing values"
   ]
  },
  {
   "cell_type": "markdown",
   "id": "508308a1-9d3d-4906-92d1-99f2075ef358",
   "metadata": {},
   "source": [
    "> with detect_missing(), datapilot detects missing values in the data and shows where it occured."
   ]
  },
  {
   "cell_type": "code",
   "execution_count": null,
   "id": "676473e1-bd65-4143-84a6-46b97622b1d0",
   "metadata": {},
   "outputs": [],
   "source": [
    "da_corrupt.detect_missing()"
   ]
  },
  {
   "cell_type": "markdown",
   "id": "d3764c90-0cdd-4626-aebf-d717e544c256",
   "metadata": {},
   "source": [
    "## Detect duplicate values"
   ]
  },
  {
   "cell_type": "markdown",
   "id": "8459c3fd-d7fb-4260-b034-c4911a516f18",
   "metadata": {},
   "source": [
    "> with detect_duplicate(), datapilot detects duplicate rows in the data and shows where it occured."
   ]
  },
  {
   "cell_type": "code",
   "execution_count": null,
   "id": "c42737b8-8a1a-4831-9957-228f8cb4d772",
   "metadata": {},
   "outputs": [],
   "source": [
    "da_corrupt.detect_duplicate()"
   ]
  },
  {
   "cell_type": "markdown",
   "id": "956bb4a5-c546-4089-838f-cd120293b05e",
   "metadata": {},
   "source": [
    "## Custom feature engineering support"
   ]
  },
  {
   "cell_type": "markdown",
   "id": "3960ef75-6340-4254-900c-c01cd673fd93",
   "metadata": {},
   "source": [
    "> datapilot also supports custom feature engineering. All you need to do is write a function like below, with each positional parameter as a column name, and return what you want to make with this feature engineering. "
   ]
  },
  {
   "cell_type": "code",
   "execution_count": null,
   "id": "9d88d4d5-0a5a-45ce-ae3d-31d3aa59bf09",
   "metadata": {},
   "outputs": [],
   "source": [
    "def sepal_length_width(sepal_length, sepal_width):\n",
    "    return sepal_length + 3*sepal_width"
   ]
  },
  {
   "cell_type": "markdown",
   "id": "8b1d9762-857e-4155-89af-01d961e0d17c",
   "metadata": {},
   "source": [
    "> Then pass the function to custom_feature_engineering(). The newly generated column will automatically be the name of the given function."
   ]
  },
  {
   "cell_type": "code",
   "execution_count": null,
   "id": "51a91bbf-8b5d-40b0-8c9c-d2e92c17df41",
   "metadata": {},
   "outputs": [],
   "source": [
    "da.custom_feature_engineering(sepal_length_width)"
   ]
  },
  {
   "cell_type": "code",
   "execution_count": null,
   "id": "28790cac-3604-40d1-a89b-aaa53675ac0a",
   "metadata": {},
   "outputs": [],
   "source": []
  }
 ],
 "metadata": {
  "kernelspec": {
   "display_name": "datapilot",
   "language": "python",
   "name": "datapilot"
  },
  "language_info": {
   "codemirror_mode": {
    "name": "ipython",
    "version": 3
   },
   "file_extension": ".py",
   "mimetype": "text/x-python",
   "name": "python",
   "nbconvert_exporter": "python",
   "pygments_lexer": "ipython3",
   "version": "3.8.15 (default, Nov 24 2022, 08:57:44) \n[Clang 14.0.6 ]"
  }
 },
 "nbformat": 4,
 "nbformat_minor": 5
}
