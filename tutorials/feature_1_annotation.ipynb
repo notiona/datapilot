{
 "cells": [
  {
   "cell_type": "markdown",
   "id": "13ace36a-bb6b-464b-ac95-98c3fee21834",
   "metadata": {
    "tags": []
   },
   "source": [
    "## import datapilot.Annotator"
   ]
  },
  {
   "cell_type": "markdown",
   "id": "e96fe290-9e5e-4632-9530-82116af51577",
   "metadata": {},
   "source": [
    "> First of all, we need to import datapilot's Annotator class, to use its methods"
   ]
  },
  {
   "cell_type": "code",
   "execution_count": null,
   "id": "88d4cc54-da31-493f-a90f-f695535e1a62",
   "metadata": {
    "tags": []
   },
   "outputs": [],
   "source": [
    "cd .."
   ]
  },
  {
   "cell_type": "code",
   "execution_count": null,
   "id": "2163a3aa-11fd-4910-8c28-8ffade330ebe",
   "metadata": {},
   "outputs": [],
   "source": [
    "pwd"
   ]
  },
  {
   "cell_type": "markdown",
   "id": "40c0085f-b5d4-4d8f-b961-c77dbd9347c4",
   "metadata": {},
   "source": [
    "> import datapilot's Annotator from datapilot.annotations"
   ]
  },
  {
   "cell_type": "code",
   "execution_count": null,
   "id": "02c22a1b-4661-45c2-8e6c-6464ef06e842",
   "metadata": {},
   "outputs": [],
   "source": [
    "from datapilot.annotations import Annotator"
   ]
  },
  {
   "cell_type": "code",
   "execution_count": null,
   "id": "78662402-1c95-4c96-85cc-cfb9263fb35e",
   "metadata": {},
   "outputs": [],
   "source": [
    "annot = Annotator(\".\")"
   ]
  },
  {
   "cell_type": "markdown",
   "id": "97e56aa2-7cff-4868-b98b-e6744a096981",
   "metadata": {},
   "source": [
    "## Get help message"
   ]
  },
  {
   "cell_type": "markdown",
   "id": "4ecaeba1-7400-46e1-b86a-dc07a5c6de2b",
   "metadata": {},
   "source": [
    "> for any class in datapilot, you can easily lookup all the callable methods by calling .help()"
   ]
  },
  {
   "cell_type": "code",
   "execution_count": null,
   "id": "ee26efb8-5850-4325-812d-36994abdfdc3",
   "metadata": {},
   "outputs": [],
   "source": [
    "annot.help()"
   ]
  },
  {
   "cell_type": "markdown",
   "id": "82b0f20f-2227-4d95-91ec-2c0a11143d6b",
   "metadata": {},
   "source": [
    "## Get all annotations"
   ]
  },
  {
   "cell_type": "markdown",
   "id": "0ca82de3-6416-419e-a8e5-3733631224fe",
   "metadata": {},
   "source": [
    "> with get_all_annotation(), you can look up all the annotations in your local project."
   ]
  },
  {
   "cell_type": "code",
   "execution_count": null,
   "id": "4ff712dd-127b-4c1f-873c-4703b3eb60b3",
   "metadata": {},
   "outputs": [],
   "source": [
    "annot.get_all_annotation()"
   ]
  },
  {
   "cell_type": "markdown",
   "id": "e6a8a6a3-4cd4-4d01-898d-76e305ca9670",
   "metadata": {},
   "source": [
    "## Create annotation"
   ]
  },
  {
   "cell_type": "markdown",
   "id": "cbf3c671-1406-4c8f-aa61-276e03f6a51c",
   "metadata": {},
   "source": [
    "> with create_annotation(), you can create your own custom annotation in jupyter notebook! With the given markdown template, leave a short code fragment along with its reference so you can easily call it later on."
   ]
  },
  {
   "cell_type": "code",
   "execution_count": null,
   "id": "cfe833c2-2608-44d0-8e2f-0a5257596638",
   "metadata": {},
   "outputs": [],
   "source": [
    "annot.create_annotation()"
   ]
  },
  {
   "cell_type": "markdown",
   "id": "b91b77a4-9245-48dd-ba09-1a93be9d27f7",
   "metadata": {
    "tags": []
   },
   "source": [
    "## View annotation"
   ]
  },
  {
   "cell_type": "markdown",
   "id": "d6ed0865-96c2-4061-972a-552072324bae",
   "metadata": {},
   "source": [
    "> you can easily view the content of the annotation quickly with view_annotation()"
   ]
  },
  {
   "cell_type": "code",
   "execution_count": null,
   "id": "09b2ae09-24cf-4852-b498-4a598a83d525",
   "metadata": {},
   "outputs": [],
   "source": [
    "annot.get_all_annotation()"
   ]
  },
  {
   "cell_type": "code",
   "execution_count": null,
   "id": "5101cc8b-425f-4650-9155-f067c7cc4f6f",
   "metadata": {},
   "outputs": [],
   "source": [
    "annot.view_annotation(\"python json io\")"
   ]
  },
  {
   "cell_type": "markdown",
   "id": "8b0457b4-51eb-4836-aa78-a7a37491c022",
   "metadata": {},
   "source": [
    "## Edit annotation"
   ]
  },
  {
   "cell_type": "markdown",
   "id": "0e10d217-7f6f-4cca-8f10-dba2ff0e0c75",
   "metadata": {},
   "source": [
    "> you can easily edit your annotation with edit_annotation()"
   ]
  },
  {
   "cell_type": "code",
   "execution_count": null,
   "id": "1472e77d-bc63-428e-a133-4e778a19ef25",
   "metadata": {},
   "outputs": [],
   "source": [
    "annot.edit_annotation(\"python json io\")"
   ]
  },
  {
   "cell_type": "code",
   "execution_count": null,
   "id": "581e9f13-3392-4936-ad82-19e1869764a7",
   "metadata": {},
   "outputs": [],
   "source": [
    "annot.view_annotation(\"json\")"
   ]
  },
  {
   "cell_type": "code",
   "execution_count": null,
   "id": "6870f346-f354-48f6-86f1-13784edf8d36",
   "metadata": {},
   "outputs": [],
   "source": []
  }
 ],
 "metadata": {
  "kernelspec": {
   "display_name": "datapilot",
   "language": "python",
   "name": "datapilot"
  },
  "language_info": {
   "codemirror_mode": {
    "name": "ipython",
    "version": 3
   },
   "file_extension": ".py",
   "mimetype": "text/x-python",
   "name": "python",
   "nbconvert_exporter": "python",
   "pygments_lexer": "ipython3",
   "version": "3.8.15 (default, Nov 24 2022, 08:57:44) \n[Clang 14.0.6 ]"
  }
 },
 "nbformat": 4,
 "nbformat_minor": 5
}
